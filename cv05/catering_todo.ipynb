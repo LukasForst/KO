{
 "cells": [
  {
   "cell_type": "markdown",
   "metadata": {},
   "source": [
    "# The Catering Problem\n",
    "\n",
    "## Motivation\n",
    "\n",
    "A catering company to cook $n$ dishes, but has only one available oven.\n",
    "    At most a single dish can be inside the oven at one time.    \n",
    "    Each dish $i$ has its earliest time when it can be put into the oven $r_i$ (since it needs to be prepared before it is put into the oven), the latest time it should be taken from the oven $d_i$ (since the customers do not want to wait too long), and the time it needs to stay in the oven $p_i$.\n",
    "    The goal is to find the vector of times $\\mathbf{s} = (s_0, \\dots, s_{n-1})$ (denoting the times when each dish is put into the oven) such that the finish time of the last dish is minimal.\n",
    "    \n",
    "## Input\n",
    "\n",
    "You are given the following:\n",
    "* number of dished $n$\n",
    "* parameters $r_i$, $d_i$ and $p_i$ for each dish $i$\n",
    "\n",
    "For the testing purposes, you can experiment with the following instance:"
   ]
  },
  {
   "cell_type": "code",
   "execution_count": 9,
   "metadata": {},
   "outputs": [],
   "source": [
    "n = 5\n",
    "params = {\n",
    "    0: {'r': 20, 'd': 45, 'p': 15},\n",
    "    1: {'r':  4, 'd': 30, 'p': 19},\n",
    "    2: {'r':  5, 'd': 80, 'p': 20},\n",
    "    3: {'r': 17, 'd': 70, 'p':  8},\n",
    "    4: {'r': 27, 'd': 66, 'p':  7}\n",
    "}\n",
    "\n",
    "# Note: parameter d_1 can be obtained by params[1][\"d\"]"
   ]
  },
  {
   "cell_type": "markdown",
   "metadata": {},
   "source": [
    "## Output\n",
    "\n",
    "You are expected to find the vector $\\mathbf{s} = (s_0, \\dots, s_{n-1})$ denoting the times when each dish should be put into the oven.\n",
    "\n",
    "The optimal solution vector for the given instance is $\\mathbf{s} = (23, 4, 53, 38, 46)$.\n",
    "\n",
    "## Exercise\n",
    "\n",
    "Your task is to formulate the ILP model of the catering problem, solve it, and extract the vector $\\mathbf{s}$. The example solution follows:"
   ]
  },
  {
   "cell_type": "markdown",
   "metadata": {},
   "source": [
    "Hint: to ensure that any two dishes $i$ and $j$ are not overlapping in the oven, you need to ensure that one of the following constraints holds: $s_i + p_i \\leq s_j$ or $s_j + p_j \\leq s_i$. This might be perhaps done using big-M... "
   ]
  },
  {
   "cell_type": "code",
   "execution_count": 35,
   "metadata": {},
   "outputs": [
    {
     "name": "stdout",
     "output_type": "stream",
     "text": [
      "Gurobi Optimizer version 9.0.1 build v9.0.1rc0 (mac64)\n",
      "Optimize a model with 35 rows, 16 columns and 80 nonzeros\n",
      "Model fingerprint: 0x4b1629f2\n",
      "Variable types: 0 continuous, 16 integer (10 binary)\n",
      "Coefficient statistics:\n",
      "  Matrix range     [1e+00, 8e+01]\n",
      "  Objective range  [1e+00, 1e+00]\n",
      "  Bounds range     [1e+00, 1e+00]\n",
      "  RHS range        [4e+00, 7e+01]\n",
      "Found heuristic solution: objective 73.0000000\n",
      "Presolve removed 31 rows and 12 columns\n",
      "Presolve time: 0.00s\n",
      "Presolved: 4 rows, 4 columns, 10 nonzeros\n",
      "Variable types: 0 continuous, 4 integer (1 binary)\n",
      "\n",
      "Explored 0 nodes (0 simplex iterations) in 0.01 seconds\n",
      "Thread count was 12 (of 12 available processors)\n",
      "\n",
      "Solution count 1: 73 \n",
      "\n",
      "Optimal solution found (tolerance 1.00e-04)\n",
      "Best objective 7.300000000000e+01, best bound 7.300000000000e+01, gap 0.0000%\n"
     ]
    }
   ],
   "source": [
    "from gurobipy import *\n",
    "\n",
    "# model -----------------------------------------------------\n",
    "model = Model()\n",
    "\n",
    "# - ADD VARIABLES\n",
    "z = model.addVar(name='z', vtype=GRB.INTEGER, lb=0, obj=1.0)\n",
    "s = model.addVars(n, name='s', vtype=GRB.INTEGER, lb=0)\n",
    "\n",
    "# compute M\n",
    "M = max(x['d'] for x in params.values()) + 1\n",
    "\n",
    "# - ADD CONSTRAINTS\n",
    "for i in range(0, n):\n",
    "    par = params[i]\n",
    "    model.addConstr(s[i] >= par['r'])\n",
    "    model.addConstr(s[i] + par['p'] <= z)\n",
    "    model.addConstr(s[i] + par['p'] <= par['d'])\n",
    "    \n",
    "    for j in range(i + 1, n):\n",
    "        pj = params[j]\n",
    "        y = model.addVar(name=f'y{i},{j}', vtype=GRB.BINARY)\n",
    "        model.addConstr(s[i] + par['p'] <= s[j] + (1 - y) * M)\n",
    "        model.addConstr(s[j] + pj['p'] <= s[i] + y * M)\n",
    "        \n",
    "\n",
    "# - SET OBJECTIVE\n",
    "# call the solver -------------------------------------------\n",
    "model.optimize()"
   ]
  },
  {
   "cell_type": "code",
   "execution_count": 34,
   "metadata": {},
   "outputs": [
    {
     "name": "stdout",
     "output_type": "stream",
     "text": [
      "\n",
      "SOLUTION:\n",
      "[23, 4, 53, 38, 46]\n"
     ]
    }
   ],
   "source": [
    "solution = [int(si.x) for si in s.values()]\n",
    "print('\\nSOLUTION:')\n",
    "print(solution)"
   ]
  },
  {
   "cell_type": "markdown",
   "metadata": {},
   "source": [
    "## Solution visualization"
   ]
  },
  {
   "cell_type": "code",
   "execution_count": 31,
   "metadata": {},
   "outputs": [
    {
     "data": {
      "image/png": "[encoded data removed]",
      "text/plain": [
       "<Figure size 720x144 with 1 Axes>"
      ]
     },
     "metadata": {
      "needs_background": "light"
     },
     "output_type": "display_data"
    }
   ],
   "source": [
    "import matplotlib.pyplot as plt \n",
    "\n",
    "def plot_solution(s, p):\n",
    "    \"\"\"\n",
    "    s: solution vector\n",
    "    p: processing times\n",
    "    \"\"\"\n",
    "    fig = plt.figure(figsize=(10,2))\n",
    "    ax = plt.gca()\n",
    "    ax.set_xlabel('time')     \n",
    "    ax.grid(True) \n",
    "    ax.set_yticks([2.5])\n",
    "    ax.set_yticklabels([\"oven\"]) \n",
    "    eps = 0.25  # just to show spaces between the dishes\n",
    "    ax.broken_barh([(s[i], p[i]-eps) for i in range(len(s))], (0, 5), \n",
    "                   facecolors=('tab:orange', 'tab:green', 'tab:red', 'tab:blue', 'tab:gray'))\n",
    "\n",
    "# TODO: plot your solution\n",
    "plot_solution(solution, [params[i][\"p\"] for i in range(n)])"
   ]
  },
  {
   "cell_type": "code",
   "execution_count": null,
   "metadata": {},
   "outputs": [],
   "source": []
  }
 ],
 "metadata": {
  "kernelspec": {
   "display_name": "Python 3",
   "language": "python",
   "name": "python3"
  },
  "language_info": {
   "codemirror_mode": {
    "name": "ipython",
    "version": 3
   },
   "file_extension": ".py",
   "mimetype": "text/x-python",
   "name": "python",
   "nbconvert_exporter": "python",
   "pygments_lexer": "ipython3",
   "version": "3.7.6"
  }
 },
 "nbformat": 4,
 "nbformat_minor": 4
}
