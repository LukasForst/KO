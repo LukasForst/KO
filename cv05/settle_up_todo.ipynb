{
 "cells": [
  {
   "cell_type": "markdown",
   "metadata": {},
   "source": [
    "# Settle Up Problem (Dlužníček)\n",
    "\n",
    "## Motivation\n",
    "\n",
    "You went on a trip with a group of your friends. All of you shared some expenses, and now it is the time to settle all the debts. It is clear that everyone should pay the same amount; however, people are lazy, and so you want to find the solution which minimizes the number of transactions.\n",
    "\n",
    "## Input\n",
    "\n",
    "You are given the following:\n",
    "\n",
    "* A set of people $P$\n",
    "* For every person $i \\in P$ the cost $c_i$ (i.e., amount of money that $i$ payed)\n",
    "\n",
    "For the experiments, you may use the following instance:"
   ]
  },
  {
   "cell_type": "code",
   "execution_count": 2,
   "metadata": {
    "pycharm": {
     "is_executing": false
    }
   },
   "outputs": [],
   "source": [
    "P = set([\"A\", \"B\", \"C\", \"D\"])\n",
    "c = {\"A\": 0, \"B\": 590, \"C\": 110, \"D\": 300}  # c_i is accessed by calling c[i]\n",
    "sv = sum(c.values())/len(c)  # the settlement value"
   ]
  },
  {
   "cell_type": "markdown",
   "metadata": {},
   "source": [
    "Number $sv$ (the settlement value) is the fair price that every person should pay."
   ]
  },
  {
   "cell_type": "markdown",
   "metadata": {},
   "source": [
    "## Output\n",
    "\n",
    "You should find a list of tuples $(x_k, y_k, z_k)$ representing the transactions: person $x_k$ should pay person $y_k$ z_k euros. The number of transactions (i.e., the length of the list) should be minimized.\n",
    "\n",
    "For the given instance, the **optimal solution** consists of 3 transactions, namely\n",
    "\n",
    "```\n",
    "A -> B: 250.0\n",
    "C -> D: 50.0\n",
    "C -> B: 90.0\n",
    "```"
   ]
  },
  {
   "cell_type": "markdown",
   "metadata": {},
   "source": [
    "## Exercise\n",
    "\n",
    "Implement the ILP model of the problem. You can assume that the settlement value is int (or was rounded)."
   ]
  },
  {
   "cell_type": "code",
   "execution_count": 7,
   "outputs": [
    {
     "data": {
      "text/plain": "[('C', 'C'),\n ('C', 'D'),\n ('C', 'A'),\n ('C', 'B'),\n ('D', 'C'),\n ('D', 'D'),\n ('D', 'A'),\n ('D', 'B'),\n ('A', 'C'),\n ('A', 'D'),\n ('A', 'A'),\n ('A', 'B'),\n ('B', 'C'),\n ('B', 'D'),\n ('B', 'A'),\n ('B', 'B')]"
     },
     "metadata": {},
     "output_type": "execute_result",
     "execution_count": 7
    }
   ],
   "source": [
    "from itertools import product as cartesian\n",
    "list(cartesian(P, P))"
   ],
   "metadata": {
    "collapsed": false,
    "pycharm": {
     "name": "#%%\n",
     "is_executing": false
    }
   }
  },
  {
   "cell_type": "code",
   "execution_count": 22,
   "metadata": {
    "pycharm": {
     "is_executing": false
    }
   },
   "outputs": [
    {
     "name": "stdout",
     "text": [
      "Gurobi Optimizer version 9.0.1 build v9.0.1rc0 (win64)\n",
      "Optimize a model with 36 rows, 32 columns and 88 nonzeros\n",
      "Model fingerprint: 0x879c7564\n",
      "Variable types: 0 continuous, 32 integer (16 binary)\n",
      "Coefficient statistics:\n",
      "  Matrix range     [1e+00, 1e+03]\n",
      "  Objective range  [1e+00, 1e+00]\n",
      "  Bounds range     [1e+00, 1e+00]\n",
      "  RHS range        [5e+01, 3e+02]\n",
      "Found heuristic solution: objective 3.0000000\n",
      "Presolve removed 8 rows and 8 columns\n",
      "Presolve time: 0.00s\n",
      "Presolved: 28 rows, 24 columns, 72 nonzeros\n",
      "Variable types: 0 continuous, 24 integer (12 binary)\n",
      "\n",
      "Root relaxation: objective 3.900000e-01, 12 iterations, 0.00 seconds\n",
      "\n",
      "    Nodes    |    Current Node    |     Objective Bounds      |     Work\n",
      " Expl Unexpl |  Obj  Depth IntInf | Incumbent    BestBd   Gap | It/Node Time\n",
      "\n",
      "     0     0    0.39000    0    3    3.00000    0.39000  87.0%     -    0s\n",
      "     0     0     cutoff    0         3.00000    3.00000  0.00%     -    0s\n",
      "\n",
      "Cutting planes:\n",
      "  Gomory: 1\n",
      "  MIR: 4\n",
      "  Flow cover: 9\n",
      "  Flow path: 1\n",
      "  Relax-and-lift: 2\n",
      "\n",
      "Explored 1 nodes (22 simplex iterations) in 0.02 seconds\n",
      "Thread count was 12 (of 12 available processors)\n",
      "\n",
      "Solution count 1: 3 \n",
      "\n",
      "Optimal solution found (tolerance 1.00e-04)\n",
      "Best objective 3.000000000000e+00, best bound 3.000000000000e+00, gap 0.0000%\n",
      "\n",
      "SOLUTION:\n",
      "A -> B: 250.0\n",
      "C -> B: 90.0\n",
      "C -> D: 50.0\n"
     ],
     "output_type": "stream"
    }
   ],
   "source": [
    "import gurobipy as g  # import Gurobi module\n",
    "from gurobipy import GRB\n",
    "from itertools import product as cartesian\n",
    "\n",
    "\n",
    "# model --------------------------------------------------\n",
    "m = g.Model()\n",
    "\n",
    "# - ADD VARIABLES\n",
    "F = m.addVars(cartesian(P, P), vtype=GRB.INTEGER, name='F', lb=0)\n",
    "O = m.addVars(cartesian(P, P), vtype=GRB.BINARY, name='O')\n",
    "#print(g.quicksum(T[('A', b)] for b in P))\n",
    "\n",
    "# - ADD CONSTRAINTS\n",
    "M = sum(c.values())\n",
    "\n",
    "for p1 in P:\n",
    "    m.addConstr(g.quicksum(F[(p1, p2)] for p2 in P) +\n",
    "                c[p1] -\n",
    "                g.quicksum(F[(p2, p1)] for p2 in P) == sv)\n",
    "# TODO\n",
    "for people in cartesian(P, P):\n",
    "    m.addConstr(M*O[people] >= F[people])\n",
    "    m.addConstr(F[people] >= O[people])\n",
    "\n",
    "# - SET OBJECTIVE\n",
    "# TODO\n",
    "m.setObjective(O.sum())\n",
    "\n",
    "# call the solver -------------------------------------------\n",
    "m.optimize()\n",
    "\n",
    "# print the solution -----------------------------------------\n",
    "print('\\nSOLUTION:')\n",
    "print(\"\\n\".join([f'{p1} -> {p2}: {int(x.x)}' for ((p1, p2), x) in sorted(F.items(), key=lambda x: x[1].x, reverse=True) if x.x > 0]))\n"
   ]
  },
  {
   "cell_type": "markdown",
   "metadata": {},
   "source": [
    "## Additional experiments\n",
    "\n",
    "* experiment with different values of the 'big M' constant\n",
    "* try to generalize the model to work even with float sv (e.g., rounded to 0.01)\n",
    "\n",
    "More comments can be found in `settle_up_models.ipynb.zip` from the Lab 3.\n",
    " "
   ]
  },
  {
   "cell_type": "code",
   "execution_count": null,
   "metadata": {},
   "outputs": [],
   "source": []
  }
 ],
 "metadata": {
  "kernelspec": {
   "name": "conda-env-KO-py",
   "language": "python",
   "display_name": "Python [conda env:KO] *"
  },
  "language_info": {
   "codemirror_mode": {
    "name": "ipython",
    "version": 3
   },
   "file_extension": ".py",
   "mimetype": "text/x-python",
   "name": "python",
   "nbconvert_exporter": "python",
   "pygments_lexer": "ipython3",
   "version": "3.7.4"
  },
  "pycharm": {
   "stem_cell": {
    "cell_type": "raw",
    "source": [],
    "metadata": {
     "collapsed": false
    }
   }
  }
 },
 "nbformat": 4,
 "nbformat_minor": 4
}