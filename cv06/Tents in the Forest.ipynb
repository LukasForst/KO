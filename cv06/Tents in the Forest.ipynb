{
 "cells": [
  {
   "cell_type": "markdown",
   "metadata": {},
   "source": [
    "# Find the Tents\n",
    "\n",
    "_Combinatorial Optimization course, FEE CTU in Prague. Created by [Industrial Informatics Department](http://industrialinformatics.fel.cvut.cz)._\n",
    "\n",
    "The problem was taken from https://www.brainbashers.com/tents.asp ; there, you can try to solve some examples manually.\n",
    "\n",
    "## Task\n",
    "\n",
    "Find all of the hidden tents in the forest grid.\n",
    "\n",
    "You know that:\n",
    "\n",
    "- Each tent is attached to one tree (so there are as many tents as there are trees).\n",
    "- A tent can only be found horizontally or vertically adjacent to a tree.\n",
    "- Tents are never adjacent to each other, neither vertically, horizontally, nor diagonally.\n",
    "- A tree might be next to two tents but is only connected to one.\n",
    "\n",
    "You are also given two vectors indicating how many tents are in each respective row or column of the forest grid.\n",
    "\n",
    "\n",
    "## Input\n",
    "\n",
    "You are given a positive integer $n \\geq 2$, representing the size of the forest grid (assume it is a square of size $(n \\times n$). You are also given vectors $\\mathbf r = (r_1, \\dots, r_n)$ and $\\mathbf c = (c_1, \\dots, c_n)$ representing the numbers of the tents in the rows and columns of the forest grid. Finally, you are given a list of coordinates of the trees $((x_1, y_1), \\dots, (x_k, y_k))$."
   ]
  },
  {
   "cell_type": "code",
   "execution_count": 87,
   "outputs": [],
   "source": [
    "# 2x2 - Extra small (for debugging)\n",
    "n1 = 3\n",
    "r1 = (1, 1, 0)\n",
    "c1 = (1, 0, 1)\n",
    "trees1 = [(1,1), (3,2)]\n"
   ],
   "metadata": {
    "collapsed": false,
    "pycharm": {
     "name": "#%%\n",
     "is_executing": false
    }
   }
  },
  {
   "cell_type": "code",
   "execution_count": 88,
   "metadata": {
    "pycharm": {
     "is_executing": false
    }
   },
   "outputs": [],
   "source": [
    "# 8x8 - Medium\n",
    "n2 = 8\n",
    "r2 = (3, 1, 1, 2, 0, 2, 0, 3)\n",
    "c2 = (2, 1, 2, 2 ,1, 1 ,2 ,1)\n",
    "trees2 = [(2, 1), (5, 1), (6, 1),\n",
    "         (1, 2),\n",
    "         (3, 3),\n",
    "         (3, 4), (6, 4),\n",
    "         (4, 5), (6, 5),\n",
    "         (8, 7),\n",
    "         (2, 8), (4, 8)]"
   ]
  },
  {
   "cell_type": "code",
   "execution_count": 89,
   "metadata": {
    "pycharm": {
     "is_executing": false
    }
   },
   "outputs": [],
   "source": [
    "# Weekly special\n",
    "n3 = 20\n",
    "r3 = (7, 2, 3, 4, 3, 5, 4, 4, 4, 4, 3, 6, 3, 6, 2, 3, 6, 3, 3, 5)\n",
    "c3 = (6, 4, 3, 5, 4, 4, 4, 3, 5, 3, 4, 3, 4, 4, 6, 3 ,4, 3, 6, 2)\n",
    "trees3 = [(3, 1), (4, 1), (8, 1), (13, 1), (15, 1),\n",
    "         (1, 2), (9, 2), (18, 2), (19, 2),\n",
    "         (5, 3), (12, 3), (15, 3),\n",
    "         (2, 4), (4, 4), (9, 4), (17, 4),\n",
    "         (6, 5), (10, 5), (13, 5), (17, 5), (20, 5),\n",
    "         (1, 6), (7, 6), (10, 6), (12, 6), (16, 6),\n",
    "         (20, 7),\n",
    "         (1, 8), (4, 8), (5, 8), (11, 8), (13, 8), (14, 8), (19, 8),\n",
    "         (4, 9), (6, 9), (9, 9), (15, 9), (17, 9),\n",
    "         (8, 10), (17, 10), (19, 10),\n",
    "         (12, 11),\n",
    "         (5, 12), (7, 12), (14, 12), (16, 12),\n",
    "         (1, 13), (2, 13), (6, 13), (19, 13),\n",
    "         (11, 14), (14, 14), (20, 14),\n",
    "         (3, 15), (5, 15), (6, 15), (8, 15), (13, 15), (20, 15),\n",
    "         (2, 16), (3, 16), (10, 16),\n",
    "         (8, 17), (11, 17), (14, 17), (15, 17),\n",
    "         (2, 18), (6, 18), (9, 18), (12, 18), (13, 18), (18, 18),\n",
    "         (2, 19), (7, 19), (15, 19), (17, 19), (20, 19),\n",
    "         (5, 20), (10, 20)]"
   ]
  },
  {
   "cell_type": "markdown",
   "metadata": {},
   "source": [
    "## Output\n",
    "\n",
    "You should find the coordinates $(x_i, y_i), i \\in \\{1,\\dots,k\\}$, of the individual tents.\n",
    "\n",
    "## Model"
   ]
  },
  {
   "cell_type": "code",
   "execution_count": 90,
   "metadata": {
    "pycharm": {
     "is_executing": false
    }
   },
   "outputs": [],
   "source": [
    "import gurobipy as g\n",
    "from gurobipy import *\n",
    "\n",
    "def optimize1(n,r,c,trees):\n",
    "    def to_xy(index):\n",
    "        return index%n,int(index/n)\n",
    "\n",
    "    def to_index(x,y):\n",
    "        return y*n + x\n",
    "    \n",
    "    def offset_4(x,y):\n",
    "        return [(x+1,y), (x-1,y), (x,y+1), (x,y-1)]\n",
    "    \n",
    "    # VARIABLES\n",
    "    model = g.Model()\n",
    "    # Pozice stanu\n",
    "    x = model.addVars(n*n, vtype=GRB.BINARY, name='x')\n",
    "    \n",
    "    trees_vector = [0 for _ in range(n*n)]\n",
    "    for a,b in trees:\n",
    "        trees_vector[to_index(a-1,b-1)] = 1\n",
    "    \n",
    "    # Constraints\n",
    "    # soucty radku\n",
    "    for i in range(len(r)):\n",
    "        value = r[i]\n",
    "        model.addConstr(sum(x.values()[i*n:i*n+n]) == value)    \n",
    "    \n",
    "    # soucty sloupcu\n",
    "    for i in range(len(c)):\n",
    "        value = c[i]\n",
    "        end = i + (n-1)*n + 1\n",
    "        model.addConstr(sum(x.values()[i:end:n]) == value)    \n",
    "    \n",
    "    # V osmi okolí stanu nesmí být stan\n",
    "    for index, tent in enumerate(x):\n",
    "        xx,yy = to_xy(index)\n",
    "        for i in [xx-1,xx,xx+1]:\n",
    "            for j in [yy-1,yy,yy+1]:\n",
    "                if 0 <= i < n and 0 <= j < n and (i,j) != (xx,yy):\n",
    "                   model.addConstr(x[to_index(i,j)] <= 1-x[to_index(xx,yy)])\n",
    "     \n",
    "    # stan nesmí být na stromě\n",
    "    # ve čtyř okolí stanu MUSÍ být strom    \n",
    "    for index, _ in enumerate(x):\n",
    "        if trees_vector[index] == 1: # strom\n",
    "            model.addConstr(x[index] <= 0)\n",
    "            # ve čtyř okolí stromu musí být stan protože stanů je stejně jako stromů\n",
    "            model.addConstr(sum([x[to_index(a,b)] for a,b in offset_4(*to_xy(index)) if 0 <= a < n and 0 <= b < n]) >= 1)\n",
    "        model.addConstr(sum([trees_vector[to_index(a,b)] for a,b in offset_4(*to_xy(index)) if 0 <= a < n and 0 <= b < n]) >= x[index])\n",
    "                \n",
    "    \n",
    "    model.optimize()\n",
    "    # fill tents\n",
    "    \n",
    "    tents = []    \n",
    "    for index, tent in enumerate(x.values()): \n",
    "        if tent.x != 0:\n",
    "            a,b = to_xy(index)\n",
    "            tents.append((a+1,b+1))\n",
    "    return tents\n"
   ]
  },
  {
   "cell_type": "code",
   "execution_count": 91,
   "outputs": [],
   "source": [
    "def optimize2(n, r, c, trees):\n",
    "    import gurobipy as g\n",
    "    from gurobipy import GRB\n",
    "    from itertools import product as cartesian\n",
    "    \n",
    "    offsets_8 = set(cartesian(range(-1,2), range(-1,2))) - {(0, 0)}\n",
    "    offsets_4 = [(1,0), (-1,0), (0,1), (0,-1)]\n",
    "    outer_frame = set(cartesian(range(n+2), range(n+2))) - set(cartesian(range(1,n+1), range(1,n+1)))\n",
    "    \n",
    "    m = g.Model()\n",
    "    T = m.addVars(n+2, n+2, vtype=GRB.BINARY, ub=0)\n",
    "    \n",
    "    for i, j in trees:\n",
    "        tree_four_neighbors = [(i+ii, j+jj) for (ii,jj) in offsets_4]\n",
    "        for loc in tree_four_neighbors:\n",
    "            T[loc].ub = 1\n",
    "        m.addConstr(g.quicksum(T[loc] for loc in tree_four_neighbors) >= 1)\n",
    "    \n",
    "    m.addConstr(g.quicksum(T[coords] for coords in outer_frame) == 0)  # can't put tents in fake spots\n",
    "        \n",
    "    M = 9\n",
    "    \n",
    "    for i, j in cartesian(range(1, n+1), range(1, n+1)):\n",
    "        # there can't be another tent in a tent's 8-neighborhood\n",
    "        m.addConstr(M * (1 - T[i, j]) >= g.quicksum(T[i+ii, j+jj] for ii, jj in offsets_8))\n",
    "        \n",
    "    for i, val in enumerate(r, start=1):\n",
    "        m.addConstr(g.quicksum(T[j, i] for j in range(1, n + 1)) == val)\n",
    "    \n",
    "    for j, val in enumerate(c, start=1):\n",
    "        m.addConstr(g.quicksum(T[j, i] for i in range(1, n + 1)) == val)\n",
    "        \n",
    "    m.optimize()\n",
    "    \n",
    "    return [coords for coords, var in T.items() if var.x > 0]"
   ],
   "metadata": {
    "collapsed": false,
    "pycharm": {
     "name": "#%%\n",
     "is_executing": false
    }
   }
  },
  {
   "cell_type": "markdown",
   "metadata": {
    "pycharm": {
     "name": "#%% md\n"
    }
   },
   "source": [
    " ##  Visualization"
   ]
  },
  {
   "cell_type": "code",
   "execution_count": 92,
   "outputs": [],
   "source": [
    "import matplotlib.pyplot as plt\n",
    "import numpy as np\n",
    "\n",
    "def visualize(n, trees, tents, r, c):\n",
    "    grid = [[\".\" for _ in range(n+2)] for _ in range(n+2)]\n",
    "    \n",
    "    for t_x, t_y in tents:\n",
    "        grid[t_y][t_x] = \"X\"\n",
    "    \n",
    "    for t_x, t_y in trees:\n",
    "        grid[t_y][t_x] = \"T\"\n",
    "\n",
    "    print(\"  \", end=\"\")\n",
    "    for c_cur in c:\n",
    "        print(c_cur, end=\" \")\n",
    "    print()\n",
    "    \n",
    "    for y in range(1, n+1):\n",
    "        print(r[y-1], end=\" \")\n",
    "        for x in range(1, n+1):\n",
    "            print(grid[y][x], end=\" \")\n",
    "            \n",
    "        print()"
   ],
   "metadata": {
    "collapsed": false,
    "pycharm": {
     "name": "#%%\n",
     "is_executing": false
    }
   }
  },
  {
   "cell_type": "code",
   "execution_count": 93,
   "outputs": [],
   "source": [
    "optimize = optimize1  # select ILP model"
   ],
   "metadata": {
    "collapsed": false,
    "pycharm": {
     "name": "#%%\n",
     "is_executing": false
    }
   }
  },
  {
   "cell_type": "code",
   "execution_count": 94,
   "metadata": {
    "pycharm": {
     "is_executing": false
    }
   },
   "outputs": [
    {
     "name": "stdout",
     "text": [
      "Gurobi Optimizer version 9.0.1 build v9.0.1rc0 (win64)\n",
      "Optimize a model with 59 rows, 9 columns and 114 nonzeros\n",
      "Model fingerprint: 0x6e0e1d66\n",
      "Variable types: 0 continuous, 9 integer (9 binary)\n",
      "Coefficient statistics:\n",
      "  Matrix range     [1e+00, 1e+00]\n",
      "  Objective range  [0e+00, 0e+00]\n",
      "  Bounds range     [1e+00, 1e+00]\n",
      "  RHS range        [1e+00, 1e+00]\n",
      "Presolve removed 59 rows and 9 columns\n",
      "Presolve time: 0.00s\n",
      "Presolve: All rows and columns removed\n",
      "\n",
      "Explored 0 nodes (0 simplex iterations) in 0.03 seconds\n",
      "Thread count was 1 (of 4 available processors)\n",
      "\n",
      "Solution count 1: 0 \n",
      "\n",
      "Optimal solution found (tolerance 1.00e-04)\n",
      "Best objective 0.000000000000e+00, best bound 0.000000000000e+00, gap 0.0000%\n",
      "[(3, 1), (1, 2)]\n",
      "  1 0 1 \n",
      "1 T . X \n",
      "1 X . T \n",
      "0 . . . \n"
     ],
     "output_type": "stream"
    }
   ],
   "source": [
    "tents1 = optimize(n1, r1, c1, trees1)\n",
    "print(tents1)\n",
    "visualize(n1, trees1, tents1, r1, c1)"
   ]
  },
  {
   "cell_type": "code",
   "execution_count": 95,
   "outputs": [
    {
     "name": "stdout",
     "text": [
      "Gurobi Optimizer version 9.0.1 build v9.0.1rc0 (win64)\n",
      "Optimize a model with 524 rows, 64 columns and 1085 nonzeros\n",
      "Model fingerprint: 0x9167e6f3\n",
      "Variable types: 0 continuous, 64 integer (64 binary)\n",
      "Coefficient statistics:\n",
      "  Matrix range     [1e+00, 1e+00]\n",
      "  Objective range  [0e+00, 0e+00]\n",
      "  Bounds range     [1e+00, 1e+00]\n",
      "  RHS range        [1e+00, 3e+00]\n",
      "Presolve removed 524 rows and 64 columns\n",
      "Presolve time: 0.00s\n",
      "Presolve: All rows and columns removed\n",
      "\n",
      "Explored 0 nodes (0 simplex iterations) in 0.02 seconds\n",
      "Thread count was 1 (of 4 available processors)\n",
      "\n",
      "Solution count 1: 0 \n",
      "\n",
      "Optimal solution found (tolerance 1.00e-04)\n",
      "Best objective 0.000000000000e+00, best bound 0.000000000000e+00, gap 0.0000%\n",
      "  2 1 2 2 1 1 2 1 \n",
      "3 X T X . T T X . \n",
      "1 T . . . X . . . \n",
      "1 . X T . . . . . \n",
      "2 . . T X . T X . \n",
      "0 . . . T . T . . \n",
      "2 . . . X . X . . \n",
      "0 . . . . . . . T \n",
      "3 X T X T . . . X \n"
     ],
     "output_type": "stream"
    }
   ],
   "source": [
    "optimize = optimize2  # select ILP model"
   ],
   "metadata": {
    "collapsed": false,
    "pycharm": {
     "name": "#%%\n",
     "is_executing": false
    }
   }
  },
  {
   "cell_type": "code",
   "execution_count": 96,
   "metadata": {
    "pycharm": {
     "is_executing": false
    }
   },
   "outputs": [
    {
     "name": "stdout",
     "text": [
      "Gurobi Optimizer version 9.0.1 build v9.0.1rc0 (win64)\n",
      "Optimize a model with 3564 rows, 400 columns and 7512 nonzeros\n",
      "Model fingerprint: 0xfbd745af\n",
      "Variable types: 0 continuous, 400 integer (400 binary)\n",
      "Coefficient statistics:\n",
      "  Matrix range     [1e+00, 1e+00]\n",
      "  Objective range  [0e+00, 0e+00]\n",
      "  Bounds range     [1e+00, 1e+00]\n",
      "  RHS range        [1e+00, 7e+00]\n",
      "Presolve removed 3564 rows and 400 columns\n",
      "Presolve time: 0.01s\n",
      "Presolve: All rows and columns removed\n",
      "\n",
      "Explored 0 nodes (0 simplex iterations) in 0.02 seconds\n",
      "Thread count was 1 (of 4 available processors)\n",
      "\n",
      "Solution count 1: 0 \n",
      "\n",
      "Optimal solution found (tolerance 1.00e-04)\n",
      "Best objective 0.000000000000e+00, best bound 0.000000000000e+00, gap 0.0000%\n",
      "  6 4 3 5 4 4 4 3 5 3 4 3 4 4 6 3 4 3 6 2 \n",
      "7 . X T T X . X T X . . . T X T X . X . . \n",
      "2 T . . . . . . . T . . X . . . . . T T X \n",
      "3 X . . X T . . . . . . T . X T . . . . . \n",
      "4 . T . T . X . X T X . . . . . X T . . . \n",
      "3 . X . X . T . . . T . . T . . . T . X T \n",
      "5 T . . . . . T . X T X T X . X T X . . . \n",
      "4 X . . . X . X . . . . . . . . . . . X T \n",
      "4 T . X T T . . . X . T . T T X . X . T . \n",
      "4 X . . T . T . . T . X . X . T . T . X . \n",
      "4 . . . X . X . T X . . . . . X . T . T . \n",
      "3 . . . . . . . . . . X T . . . . X . X . \n",
      "6 . X . X T X T X . . . . X T X T . . . . \n",
      "3 T T . . . T . . . . X . . . . . . X T X \n",
      "6 X . X . . X . X . . T . X T X . . . . T \n",
      "2 . . T . T T . T . X . . T . . . . . X T \n",
      "3 X T T . X . . . . T . . . X . . . . . . \n",
      "6 . . X . . . X T X . T X . T T X . X . . \n",
      "3 X T . . X T . . T . . T T X . . . T . . \n",
      "3 . T . . . . T . . X . X . . T . T . X T \n",
      "5 . X . X T . X . . T . . . . X . X . . . \n"
     ],
     "output_type": "stream"
    }
   ],
   "source": [
    "tents1 = optimize(n1, r1, c1, trees1)\n",
    "visualize(n1, trees1, tents1, r1, c1)"
   ]
  },
  {
   "cell_type": "code",
   "execution_count": 16,
   "metadata": {
    "pycharm": {
     "is_executing": false
    }
   },
   "outputs": [
    {
     "name": "stdout",
     "text": [
      "Gurobi Optimizer version 9.0.1 build v9.0.1rc0 (win64)\n",
      "Optimize a model with 93 rows, 100 columns and 788 nonzeros\n",
      "Model fingerprint: 0x3db04752\n",
      "Variable types: 0 continuous, 100 integer (100 binary)\n",
      "Coefficient statistics:\n",
      "  Matrix range     [1e+00, 9e+00]\n",
      "  Objective range  [0e+00, 0e+00]\n",
      "  Bounds range     [1e+00, 1e+00]\n",
      "  RHS range        [1e+00, 9e+00]\n",
      "Found heuristic solution: objective 0.0000000\n",
      "\n",
      "Explored 0 nodes (0 simplex iterations) in 0.01 seconds\n",
      "Thread count was 1 (of 12 available processors)\n",
      "\n",
      "Solution count 1: 0 \n",
      "\n",
      "Optimal solution found (tolerance 1.00e-04)\n",
      "Best objective 0.000000000000e+00, best bound 0.000000000000e+00, gap 0.0000%\n",
      "  2 1 2 2 1 1 2 1 \n",
      "3 X T X . T T X . \n",
      "1 T . . . X . . . \n",
      "1 . X T . . . . . \n",
      "2 . . T X . T X . \n",
      "0 . . . T . T . . \n",
      "2 . . . X . X . . \n",
      "0 . . . . . . . T \n",
      "3 X T X T . . . X \n"
     ],
     "output_type": "stream"
    }
   ],
   "source": [
    "tents2 = optimize(n2, r2, c2, trees2)\n",
    "visualize(n2, trees2, tents2, r2, c2)"
   ]
  },
  {
   "cell_type": "code",
   "execution_count": 17,
   "metadata": {
    "pycharm": {
     "is_executing": false,
     "name": "#%%\n"
    }
   },
   "outputs": [
    {
     "name": "stdout",
     "text": [
      "Gurobi Optimizer version 9.0.1 build v9.0.1rc0 (win64)\n",
      "Optimize a model with 521 rows, 484 columns and 4804 nonzeros\n",
      "Model fingerprint: 0x329e6931\n",
      "Variable types: 0 continuous, 484 integer (484 binary)\n",
      "Coefficient statistics:\n",
      "  Matrix range     [1e+00, 9e+00]\n",
      "  Objective range  [0e+00, 0e+00]\n",
      "  Bounds range     [1e+00, 1e+00]\n",
      "  RHS range        [1e+00, 9e+00]\n",
      "Presolve removed 200 rows and 283 columns\n",
      "Presolve time: 0.01s\n",
      "Presolved: 321 rows, 201 columns, 1577 nonzeros\n",
      "Variable types: 0 continuous, 201 integer (201 binary)\n",
      "\n",
      "Root relaxation: objective 0.000000e+00, 486 iterations, 0.01 seconds\n",
      "\n",
      "    Nodes    |    Current Node    |     Objective Bounds      |     Work\n",
      " Expl Unexpl |  Obj  Depth IntInf | Incumbent    BestBd   Gap | It/Node Time\n",
      "\n",
      "H    0     0                       0.0000000    0.00000  0.00%     -    0s\n",
      "     0     0    0.00000    0   69    0.00000    0.00000  0.00%     -    0s\n",
      "\n",
      "Explored 0 nodes (744 simplex iterations) in 0.05 seconds\n",
      "Thread count was 12 (of 12 available processors)\n",
      "\n",
      "Solution count 1: 0 \n",
      "\n",
      "Optimal solution found (tolerance 1.00e-04)\n",
      "Best objective 0.000000000000e+00, best bound 0.000000000000e+00, gap 0.0000%\n",
      "  6 4 3 5 4 4 4 3 5 3 4 3 4 4 6 3 4 3 6 2 \n",
      "7 . X T T X . X T X . . . T X T X . X . . \n",
      "2 T . . . . . . . T . . X . . . . . T T X \n",
      "3 X . . X T . . . . . . T . X T . . . . . \n",
      "4 . T . T . X . X T X . . . . . X T . . . \n",
      "3 . X . X . T . . . T . . T . . . T . X T \n",
      "5 T . . . . . T . X T X T X . X T X . . . \n",
      "4 X . . . X . X . . . . . . . . . . . X T \n",
      "4 T . X T T . . . X . T . T T X . X . T . \n",
      "4 X . . T . T . . T . X . X . T . T . X . \n",
      "4 . . . X . X . T X . . . . . X . T . T . \n",
      "3 . . . . . . . . . . X T . . . . X . X . \n",
      "6 . X . X T X T X . . . . X T X T . . . . \n",
      "3 T T . . . T . . . . X . . . . . . X T X \n",
      "6 X . X . . X . X . . T . X T X . . . . T \n",
      "2 . . T . T T . T . X . . T . . . . . X T \n",
      "3 X T T . X . . . . T . . . X . . . . . . \n",
      "6 . . X . . . X T X . T X . T T X . X . . \n",
      "3 X T . . X T . . T . . T T X . . . T . . \n",
      "3 . T . . . . T . . X . X . . T . T . X T \n",
      "5 . X . X T . X . . T . . . . X . X . . . \n"
     ],
     "output_type": "stream"
    }
   ],
   "source": [
    "tents3 = optimize(n3, r3, c3, trees3)\n",
    "visualize(n3, trees3, tents3, r3, c3)\n"
   ]
  }
 ],
 "metadata": {
  "kernelspec": {
   "name": "python3",
   "language": "python",
   "display_name": "Python 3"
  },
  "language_info": {
   "codemirror_mode": {
    "name": "ipython",
    "version": 3
   },
   "file_extension": ".py",
   "mimetype": "text/x-python",
   "name": "python",
   "nbconvert_exporter": "python",
   "pygments_lexer": "ipython3",
   "version": "3.7.4"
  },
  "pycharm": {
   "stem_cell": {
    "cell_type": "raw",
    "source": [],
    "metadata": {
     "collapsed": false
    }
   }
  }
 },
 "nbformat": 4,
 "nbformat_minor": 2
}