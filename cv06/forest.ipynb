{
 "cells": [
  {
   "cell_type": "markdown",
   "metadata": {},
   "source": [
    "# Find the Tents\n",
    "\n",
    "_Combinatorial Optimization course, FEE CTU in Prague. Created by [Industrial Informatics Department](http://industrialinformatics.fel.cvut.cz)._\n",
    "\n",
    "The problem was taken from https://www.brainbashers.com/tents.asp ; there, you can try to solve some examples manually.\n",
    "\n",
    "## Task\n",
    "\n",
    "Find all of the hidden tents in the forest grid.\n",
    "\n",
    "You know that:\n",
    "\n",
    "- Each tent is attached to one tree (so there are as many tents as there are trees).\n",
    "- A tent can only be found horizontally or vertically adjacent to a tree.\n",
    "- Tents are never adjacent to each other, neither vertically, horizontally, nor diagonally.\n",
    "- A tree might be next to two tents but is only connected to one.\n",
    "\n",
    "You are also given two vectors indicating how many tents are in each respective row or column of the forest grid.\n",
    "\n",
    "\n",
    "## Input\n",
    "\n",
    "You are given a positive integer $n \\geq 2$, representing the size of the forest grid (assume it is a square of size $(n \\times n$). You are also given vectors $\\mathbf r = (r_1, \\dots, r_n)$ and $\\mathbf c = (c_1, \\dots, c_n)$ representing the numbers of the tents in the rows and columns of the forest grid. Finally, you are given a list of coordinates of the trees $((x_1, y_1), \\dots, (x_k, y_k))$."
   ]
  },
  {
   "cell_type": "code",
   "execution_count": 68,
   "metadata": {
    "pycharm": {
     "is_executing": false,
     "name": "#%%\n"
    }
   },
   "outputs": [],
   "source": [
    "# 2x2 - Extra small (for debugging)\n",
    "n1 = 3\n",
    "r1 = (1, 1, 0)\n",
    "c1 = (1, 0, 1)\n",
    "trees1 = [(1,1), (3,2)]\n"
   ]
  },
  {
   "cell_type": "code",
   "execution_count": 69,
   "metadata": {
    "pycharm": {
     "is_executing": false
    }
   },
   "outputs": [],
   "source": [
    "# 8x8 - Medium\n",
    "n2 = 8\n",
    "r2 = (3, 1, 1, 2, 0, 2, 0, 3)\n",
    "c2 = (2, 1, 2, 2 ,1, 1 ,2 ,1)\n",
    "trees2 = [(2, 1), (5, 1), (6, 1),\n",
    "         (1, 2),\n",
    "         (3, 3),\n",
    "         (3, 4), (6, 4),\n",
    "         (4, 5), (6, 5),\n",
    "         (8, 7),\n",
    "         (2, 8), (4, 8)]"
   ]
  },
  {
   "cell_type": "code",
   "execution_count": 70,
   "metadata": {
    "pycharm": {
     "is_executing": false
    }
   },
   "outputs": [],
   "source": [
    "# Weekly special\n",
    "n3 = 20\n",
    "r3 = (7, 2, 3, 4, 3, 5, 4, 4, 4, 4, 3, 6, 3, 6, 2, 3, 6, 3, 3, 5)\n",
    "c3 = (6, 4, 3, 5, 4, 4, 4, 3, 5, 3, 4, 3, 4, 4, 6, 3 ,4, 3, 6, 2)\n",
    "trees3 = [(3, 1), (4, 1), (8, 1), (13, 1), (15, 1),\n",
    "         (1, 2), (9, 2), (18, 2), (19, 2),\n",
    "         (5, 3), (12, 3), (15, 3),\n",
    "         (2, 4), (4, 4), (9, 4), (17, 4),\n",
    "         (6, 5), (10, 5), (13, 5), (17, 5), (20, 5),\n",
    "         (1, 6), (7, 6), (10, 6), (12, 6), (16, 6),\n",
    "         (20, 7),\n",
    "         (1, 8), (4, 8), (5, 8), (11, 8), (13, 8), (14, 8), (19, 8),\n",
    "         (4, 9), (6, 9), (9, 9), (15, 9), (17, 9),\n",
    "         (8, 10), (17, 10), (19, 10),\n",
    "         (12, 11),\n",
    "         (5, 12), (7, 12), (14, 12), (16, 12),\n",
    "         (1, 13), (2, 13), (6, 13), (19, 13),\n",
    "         (11, 14), (14, 14), (20, 14),\n",
    "         (3, 15), (5, 15), (6, 15), (8, 15), (13, 15), (20, 15),\n",
    "         (2, 16), (3, 16), (10, 16),\n",
    "         (8, 17), (11, 17), (14, 17), (15, 17),\n",
    "         (2, 18), (6, 18), (9, 18), (12, 18), (13, 18), (18, 18),\n",
    "         (2, 19), (7, 19), (15, 19), (17, 19), (20, 19),\n",
    "         (5, 20), (10, 20)]"
   ]
  },
  {
   "cell_type": "markdown",
   "metadata": {},
   "source": [
    "## Output\n",
    "\n",
    "You should find the coordinates $(x_i, y_i), i \\in \\{1,\\dots,k\\}$, of the individual tents.\n",
    "\n",
    "## Model"
   ]
  },
  {
   "cell_type": "code",
   "execution_count": 71,
   "metadata": {},
   "outputs": [],
   "source": [
    "from gurobipy import *\n",
    "from itertools import product as cartesian"
   ]
  },
  {
   "cell_type": "code",
   "execution_count": 72,
   "metadata": {
    "pycharm": {
     "is_executing": false,
     "name": "#%%\n"
    }
   },
   "outputs": [],
   "source": [
    "def optimize(n, r, c, trees):\n",
    "    m = Model()\n",
    "    # n+2 -> extend the board such as we don't need check borders\n",
    "    # this is really nice hack, disable all variables with uper bound 0 and\n",
    "    # then allow them only in tree neighborhood -> we don't need second matrix\n",
    "    X = m.addVars(n+2, n+2, vtype=GRB.BINARY, ub=0)\n",
    "    \n",
    "    # set sums per rows, iterate only through valid board (not extended)\n",
    "    for i, val in enumerate(r, start=1):\n",
    "        m.addConstr(sum(X[j, i] for j in range(1, n+1)) == val)\n",
    "    # sums per columns\n",
    "    for j, val in enumerate(c, start=1):\n",
    "        m.addConstr(sum(X[j, i] for i in range(1, n+1)) == val)\n",
    "    \n",
    "    # no other tents near one tent\n",
    "    tents_neighboorhood = {(-1, -1), (-1, 0), (-1, 1), (0, -1), (0, 1), (1, -1), (1, 0), (1, 1)}\n",
    "    # sum max of neighberhood + 1\n",
    "    M = 9\n",
    "    for i in range(1, n+1):\n",
    "        for j in range(1, n+1):\n",
    "            # if there's a tent, there can't be another one around it\n",
    "            m.addConstr(M * (1 - X[i, j]) >= sum(X[i+ii, j+jj] for ii, jj in tents_neighboorhood))\n",
    "    \n",
    "    # as we extended board to n+2, we need to know indicies that are ouside of the board\n",
    "    outer_frame = set(cartesian(range(n+2), range(n+2))) - set(cartesian(range(1,n+1), range(1,n+1)))\n",
    "    # tents can be only in these incidies\n",
    "    allowed_tent_indicies = {(1,0), (-1,0), (0,1), (0,-1)}\n",
    "    for i, j in trees:\n",
    "        allowed_neighberhood = [(i+ii, j+jj) for (ii,jj) in allowed_tent_indicies]\n",
    "        # allow to place tent only if there's tree\n",
    "        for idx in allowed_neighberhood:\n",
    "            # if index is inside the board, allow to place tent\n",
    "            if idx not in outer_frame: \n",
    "                # thanks Prokop\n",
    "                X[idx].ub = 1\n",
    "            \n",
    "        # there must be at least one tent in the neighberhood\n",
    "        m.addConstr(sum(X[idx] for idx in allowed_neighberhood) >= 1)\n",
    "            \n",
    "    m.optimize()\n",
    "    \n",
    "    return [coords for coords, var in X.items() if var.x > 0]"
   ]
  },
  {
   "cell_type": "markdown",
   "metadata": {
    "pycharm": {
     "name": "#%% md\n"
    }
   },
   "source": [
    " ##  Visualization"
   ]
  },
  {
   "cell_type": "code",
   "execution_count": 73,
   "metadata": {
    "pycharm": {
     "is_executing": false,
     "name": "#%%\n"
    }
   },
   "outputs": [],
   "source": [
    "import matplotlib.pyplot as plt\n",
    "import numpy as np\n",
    "\n",
    "def visualize(n, trees, tents, r, c):\n",
    "    grid = [[\".\" for _ in range(n+2)] for _ in range(n+2)]\n",
    "    \n",
    "    for t_x, t_y in tents:\n",
    "        grid[t_y][t_x] = \"X\"\n",
    "    \n",
    "    for t_x, t_y in trees:\n",
    "        grid[t_y][t_x] = \"T\"\n",
    "\n",
    "    print(\"  \", end=\"\")\n",
    "    for c_cur in c:\n",
    "        print(c_cur, end=\" \")\n",
    "    print()\n",
    "    \n",
    "    for y in range(1, n+1):\n",
    "        print(r[y-1], end=\" \")\n",
    "        for x in range(1, n+1):\n",
    "            print(grid[y][x], end=\" \")\n",
    "            \n",
    "        print()"
   ]
  },
  {
   "cell_type": "code",
   "execution_count": 74,
   "metadata": {
    "pycharm": {
     "is_executing": false
    }
   },
   "outputs": [
    {
     "name": "stdout",
     "output_type": "stream",
     "text": [
      "Gurobi Optimizer version 9.0.1 build v9.0.1rc0 (mac64)\n",
      "Optimize a model with 17 rows, 25 columns and 107 nonzeros\n",
      "Model fingerprint: 0xd2371660\n",
      "Variable types: 0 continuous, 25 integer (25 binary)\n",
      "Coefficient statistics:\n",
      "  Matrix range     [1e+00, 9e+00]\n",
      "  Objective range  [0e+00, 0e+00]\n",
      "  Bounds range     [1e+00, 1e+00]\n",
      "  RHS range        [1e+00, 9e+00]\n",
      "Presolve removed 17 rows and 25 columns\n",
      "Presolve time: 0.00s\n",
      "Presolve: All rows and columns removed\n",
      "\n",
      "Explored 0 nodes (0 simplex iterations) in 0.01 seconds\n",
      "Thread count was 1 (of 12 available processors)\n",
      "\n",
      "Solution count 1: 0 \n",
      "\n",
      "Optimal solution found (tolerance 1.00e-04)\n",
      "Best objective 0.000000000000e+00, best bound 0.000000000000e+00, gap 0.0000%\n",
      "  1 0 1 \n",
      "1 T . X \n",
      "1 X . T \n",
      "0 . . . \n"
     ]
    }
   ],
   "source": [
    "tents1 = optimize(n1, r1, c1, trees1)\n",
    "visualize(n1, trees1, tents1, r1, c1)"
   ]
  },
  {
   "cell_type": "code",
   "execution_count": 75,
   "metadata": {
    "pycharm": {
     "is_executing": false
    }
   },
   "outputs": [
    {
     "name": "stdout",
     "output_type": "stream",
     "text": [
      "Gurobi Optimizer version 9.0.1 build v9.0.1rc0 (mac64)\n",
      "Optimize a model with 92 rows, 100 columns and 752 nonzeros\n",
      "Model fingerprint: 0x134b16b8\n",
      "Variable types: 0 continuous, 100 integer (100 binary)\n",
      "Coefficient statistics:\n",
      "  Matrix range     [1e+00, 9e+00]\n",
      "  Objective range  [0e+00, 0e+00]\n",
      "  Bounds range     [1e+00, 1e+00]\n",
      "  RHS range        [1e+00, 9e+00]\n",
      "Found heuristic solution: objective 0.0000000\n",
      "\n",
      "Explored 0 nodes (0 simplex iterations) in 0.00 seconds\n",
      "Thread count was 1 (of 12 available processors)\n",
      "\n",
      "Solution count 1: 0 \n",
      "\n",
      "Optimal solution found (tolerance 1.00e-04)\n",
      "Best objective 0.000000000000e+00, best bound 0.000000000000e+00, gap 0.0000%\n",
      "  2 1 2 2 1 1 2 1 \n",
      "3 X T X . T T X . \n",
      "1 T . . . X . . . \n",
      "1 . X T . . . . . \n",
      "2 . . T X . T X . \n",
      "0 . . . T . T . . \n",
      "2 . . . X . X . . \n",
      "0 . . . . . . . T \n",
      "3 X T X T . . . X \n"
     ]
    }
   ],
   "source": [
    "tents2 = optimize(n2, r2, c2, trees2)\n",
    "visualize(n2, trees2, tents2, r2, c2)"
   ]
  },
  {
   "cell_type": "code",
   "execution_count": 76,
   "metadata": {
    "pycharm": {
     "is_executing": false,
     "name": "#%%\n"
    }
   },
   "outputs": [
    {
     "name": "stdout",
     "output_type": "stream",
     "text": [
      "Gurobi Optimizer version 9.0.1 build v9.0.1rc0 (mac64)\n",
      "Optimize a model with 520 rows, 484 columns and 4720 nonzeros\n",
      "Model fingerprint: 0xcc059f6b\n",
      "Variable types: 0 continuous, 484 integer (484 binary)\n",
      "Coefficient statistics:\n",
      "  Matrix range     [1e+00, 9e+00]\n",
      "  Objective range  [0e+00, 0e+00]\n",
      "  Bounds range     [1e+00, 1e+00]\n",
      "  RHS range        [1e+00, 9e+00]\n",
      "Presolve removed 198 rows and 283 columns\n",
      "Presolve time: 0.01s\n",
      "Presolved: 322 rows, 201 columns, 1586 nonzeros\n",
      "Variable types: 0 continuous, 201 integer (201 binary)\n",
      "\n",
      "Root relaxation: objective 0.000000e+00, 600 iterations, 0.03 seconds\n",
      "\n",
      "    Nodes    |    Current Node    |     Objective Bounds      |     Work\n",
      " Expl Unexpl |  Obj  Depth IntInf | Incumbent    BestBd   Gap | It/Node Time\n",
      "\n",
      "     0     0    0.00000    0   97          -    0.00000      -     -    0s\n",
      "H    0     0                       0.0000000    0.00000  0.00%     -    0s\n",
      "     0     0          -    0         0.00000    0.00000  0.00%     -    0s\n",
      "\n",
      "Cutting planes:\n",
      "  Gomory: 27\n",
      "  Cover: 35\n",
      "  Clique: 3\n",
      "  MIR: 8\n",
      "  StrongCG: 2\n",
      "  Zero half: 16\n",
      "  RLT: 19\n",
      "\n",
      "Explored 1 nodes (1257 simplex iterations) in 0.12 seconds\n",
      "Thread count was 12 (of 12 available processors)\n",
      "\n",
      "Solution count 1: 0 \n",
      "\n",
      "Optimal solution found (tolerance 1.00e-04)\n",
      "Best objective 0.000000000000e+00, best bound 0.000000000000e+00, gap 0.0000%\n",
      "  6 4 3 5 4 4 4 3 5 3 4 3 4 4 6 3 4 3 6 2 \n",
      "7 . X T T X . X T X . . . T X T X . X . . \n",
      "2 T . . . . . . . T . . X . . . . . T T X \n",
      "3 X . . X T . . . . . . T . X T . . . . . \n",
      "4 . T . T . X . X T X . . . . . X T . . . \n",
      "3 . X . X . T . . . T . . T . . . T . X T \n",
      "5 T . . . . . T . X T X T X . X T X . . . \n",
      "4 X . . . X . X . . . . . . . . . . . X T \n",
      "4 T . X T T . . . X . T . T T X . X . T . \n",
      "4 X . . T . T . . T . X . X . T . T . X . \n",
      "4 . . . X . X . T X . . . . . X . T . T . \n",
      "3 . . . . . . . . . . X T . . . . X . X . \n",
      "6 . X . X T X T X . . . . X T X T . . . . \n",
      "3 T T . . . T . . . . X . . . . . . X T X \n",
      "6 X . X . . X . X . . T . X T X . . . . T \n",
      "2 . . T . T T . T . X . . T . . . . . X T \n",
      "3 X T T . X . . . . T . . . X . . . . . . \n",
      "6 . . X . . . X T X . T X . T T X . X . . \n",
      "3 X T . . X T . . T . . T T X . . . T . . \n",
      "3 . T . . . . T . . X . X . . T . T . X T \n",
      "5 . X . X T . X . . T . . . . X . X . . . \n"
     ]
    }
   ],
   "source": [
    "tents3 = optimize(n3, r3, c3, trees3)\n",
    "visualize(n3, trees3, tents3, r3, c3)"
   ]
  }
 ],
 "metadata": {
  "kernelspec": {
   "display_name": "Python 3",
   "language": "python",
   "name": "python3"
  },
  "language_info": {
   "codemirror_mode": {
    "name": "ipython",
    "version": 3
   },
   "file_extension": ".py",
   "mimetype": "text/x-python",
   "name": "python",
   "nbconvert_exporter": "python",
   "pygments_lexer": "ipython3",
   "version": "3.7.6"
  },
  "pycharm": {
   "stem_cell": {
    "cell_type": "raw",
    "metadata": {
     "collapsed": false
    },
    "source": []
   }
  }
 },
 "nbformat": 4,
 "nbformat_minor": 2
}
