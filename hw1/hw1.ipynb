{
 "cells": [
  {
   "cell_type": "code",
   "execution_count": 197,
   "metadata": {},
   "outputs": [],
   "source": [
    "from gurobipy import *"
   ]
  },
  {
   "cell_type": "code",
   "execution_count": 198,
   "metadata": {},
   "outputs": [],
   "source": [
    "q = [6,6,6,6,6,8,9,12,18,22,25,21,21,20,18,21,21,24,24,18,18,18,12,8]"
   ]
  },
  {
   "cell_type": "code",
   "execution_count": 199,
   "metadata": {},
   "outputs": [],
   "source": [
    "hours = 24"
   ]
  },
  {
   "cell_type": "code",
   "execution_count": 200,
   "metadata": {},
   "outputs": [],
   "source": [
    "m = Model()\n",
    "z = m.addVars(hours, vtype=GRB.INTEGER, lb=0, obj=1.0, name=\"z\")\n",
    "x = m.addVars(hours, vtype=GRB.INTEGER, lb=0, name=\"x\")\n",
    "y = [sum([x[j % hours] for j in range(i-7, i+1)]) for i in range(hours)]"
   ]
  },
  {
   "cell_type": "code",
   "execution_count": 201,
   "metadata": {},
   "outputs": [],
   "source": [
    "for i in range(0, hours):\n",
    "    m.addConstr(q[i] - y[i] <= z[i])\n",
    "    m.addConstr(y[i] - q[i] <= z[i])"
   ]
  },
  {
   "cell_type": "code",
   "execution_count": 202,
   "metadata": {},
   "outputs": [
    {
     "name": "stdout",
     "output_type": "stream",
     "text": [
      "Gurobi Optimizer version 9.0.1 build v9.0.1rc0 (mac64)\n",
      "Optimize a model with 48 rows, 48 columns and 432 nonzeros\n",
      "Model fingerprint: 0x5fb95ef6\n",
      "Variable types: 0 continuous, 48 integer (0 binary)\n",
      "Coefficient statistics:\n",
      "  Matrix range     [1e+00, 1e+00]\n",
      "  Objective range  [1e+00, 1e+00]\n",
      "  Bounds range     [0e+00, 0e+00]\n",
      "  RHS range        [6e+00, 2e+01]\n",
      "Found heuristic solution: objective 368.0000000\n",
      "Presolve time: 0.00s\n",
      "Presolved: 48 rows, 48 columns, 432 nonzeros\n",
      "Variable types: 0 continuous, 48 integer (0 binary)\n",
      "\n",
      "Root relaxation: objective 2.800000e+01, 30 iterations, 0.00 seconds\n",
      "\n",
      "    Nodes    |    Current Node    |     Objective Bounds      |     Work\n",
      " Expl Unexpl |  Obj  Depth IntInf | Incumbent    BestBd   Gap | It/Node Time\n",
      "\n",
      "*    0     0               0      28.0000000   28.00000  0.00%     -    0s\n",
      "\n",
      "Explored 0 nodes (30 simplex iterations) in 0.01 seconds\n",
      "Thread count was 12 (of 12 available processors)\n",
      "\n",
      "Solution count 2: 28 368 \n",
      "\n",
      "Optimal solution found (tolerance 1.00e-04)\n",
      "Best objective 2.800000000000e+01, best bound 2.800000000000e+01, gap 0.0000%\n"
     ]
    }
   ],
   "source": [
    "m.optimize()"
   ]
  },
  {
   "cell_type": "code",
   "execution_count": 203,
   "metadata": {},
   "outputs": [],
   "source": [
    "objectiveValue = int(m.objVal)\n",
    "xs = [int(x[i].x) for i in range(0, hours)]"
   ]
  },
  {
   "cell_type": "code",
   "execution_count": 204,
   "metadata": {},
   "outputs": [
    {
     "name": "stdout",
     "output_type": "stream",
     "text": [
      "28\n",
      "0 0 0 6 0 1 5 0 6 0 3 6 0 0 6 0 6 3 3 0 0 0 0 0\n"
     ]
    }
   ],
   "source": [
    "print(objectiveValue)\n",
    "print(\" \".join(map(str, xs)))"
   ]
  },
  {
   "cell_type": "code",
   "execution_count": null,
   "metadata": {},
   "outputs": [],
   "source": []
  }
 ],
 "metadata": {
  "kernelspec": {
   "display_name": "Python 3",
   "language": "python",
   "name": "python3"
  },
  "language_info": {
   "codemirror_mode": {
    "name": "ipython",
    "version": 3
   },
   "file_extension": ".py",
   "mimetype": "text/x-python",
   "name": "python",
   "nbconvert_exporter": "python",
   "pygments_lexer": "ipython3",
   "version": "3.7.6"
  }
 },
 "nbformat": 4,
 "nbformat_minor": 4
}
